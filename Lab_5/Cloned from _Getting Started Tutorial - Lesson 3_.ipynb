{
 "cells": [
  {
   "cell_type": "markdown",
   "metadata": {},
   "source": [
    "## Pipeline API"
   ]
  },
  {
   "cell_type": "markdown",
   "metadata": {},
   "source": [
    "The Pipeline API is a powerful tool for cross-sectional analysis of asset data. It allows us to define a set of calculations on multiple data inputs and analyze a large amount of assets at a time. Some common uses for the Pipeline API include:  \n",
    "\n",
    "* Selecting assets based on filtering rules  \n",
    "* Ranking assets based on a scoring function  \n",
    "* Calculating portfolio allocations  \n",
    "\n",
    "To begin, let's import the Pipeline class and create a function that returns an empty pipeline. Putting our pipeline definition inside a function helps us keep things organized as our pipeline grows in complexity. This is particularly helpful when transferring data pipelines between Research and the IDE."
   ]
  },
  {
   "cell_type": "code",
   "execution_count": 1,
   "metadata": {
    "collapsed": true
   },
   "outputs": [],
   "source": [
    "# Pipeline class\n",
    "from quantopian.pipeline import Pipeline\n",
    "\n",
    "def make_pipeline():\n",
    "    # Create and return an empty Pipeline\n",
    "    return Pipeline()"
   ]
  },
  {
   "cell_type": "markdown",
   "metadata": {},
   "source": [
    "To add an output to our pipeline we need to include a reference to a dataset, and specify the computations we want to carry out on that data. For example, we will add a reference to the `close` column from the `USEquityPricing` dataset. Then, we can define our output to be the latest value from this column as follows:"
   ]
  },
  {
   "cell_type": "code",
   "execution_count": 2,
   "metadata": {
    "collapsed": true
   },
   "outputs": [],
   "source": [
    "# Import Pipeline class and USEquityPricing dataset\n",
    "from quantopian.pipeline import Pipeline\n",
    "from quantopian.pipeline.data import USEquityPricing\n",
    "\n",
    "def make_pipeline():\n",
    "    # Get latest closing price\n",
    "    close_price = USEquityPricing.close.latest\n",
    "\n",
    "    # Return Pipeline containing latest closing price\n",
    "    return Pipeline(\n",
    "        columns={\n",
    "            'close_price': close_price,\n",
    "        }\n",
    "    )"
   ]
  },
  {
   "cell_type": "markdown",
   "metadata": {},
   "source": [
    "The Pipeline API also provides a number of built-in calculations, some of which are computed over trailing windows of data. For example, the following code imports Psychsignal's `stocktwits` dataset and defines an output as the 3 day moving average of its `bull_minus_bear` column:"
   ]
  },
  {
   "cell_type": "code",
   "execution_count": 3,
   "metadata": {
    "collapsed": true
   },
   "outputs": [],
   "source": [
    "# Import Pipeline class and datasets\n",
    "from quantopian.pipeline import Pipeline\n",
    "from quantopian.pipeline.data import USEquityPricing\n",
    "from quantopian.pipeline.data.psychsignal import stocktwits\n",
    "\n",
    "# Import built-in moving average calculation\n",
    "from quantopian.pipeline.factors import SimpleMovingAverage\n",
    "\n",
    "\n",
    "def make_pipeline():\n",
    "    # Get latest closing price\n",
    "    close_price = USEquityPricing.close.latest\n",
    "\n",
    "    # Calculate 3 day average of bull_minus_bear scores\n",
    "    sentiment_score = SimpleMovingAverage(\n",
    "        inputs=[stocktwits.bull_minus_bear],\n",
    "        window_length=3,\n",
    "    )\n",
    "\n",
    "    # Return Pipeline containing close_price\n",
    "    # and sentiment_score\n",
    "    return Pipeline(\n",
    "        columns={\n",
    "            'close_price': close_price,\n",
    "            'sentiment_score': sentiment_score,\n",
    "        }\n",
    "    )"
   ]
  },
  {
   "cell_type": "markdown",
   "metadata": {},
   "source": [
    "### Universe Selection"
   ]
  },
  {
   "cell_type": "markdown",
   "metadata": {},
   "source": [
    "An important part of developing a strategy is defining the set of assets that we want to consider trading in our portfolio. We usually refer to this set of assets as our trading universe.  \n",
    "\n",
    "A trading universe should be as large as possible, while also excluding assets that aren't appropriate for our portfolio. For example, we want to exclude stocks that are illiquid or difficult to trade. Quantopian's `QTradableStocksUS` universe offers this characteristic. We can set `QTradableStocksUS` as our trading universe using the screen parameter of our pipeline constructor:"
   ]
  },
  {
   "cell_type": "code",
   "execution_count": 4,
   "metadata": {
    "collapsed": true
   },
   "outputs": [],
   "source": [
    "# Import Pipeline class and datasets\n",
    "from quantopian.pipeline import Pipeline\n",
    "from quantopian.pipeline.data import USEquityPricing\n",
    "from quantopian.pipeline.data.psychsignal import stocktwits\n",
    "\n",
    "# Import built-in moving average calculation\n",
    "from quantopian.pipeline.factors import SimpleMovingAverage\n",
    "\n",
    "# Import built-in trading universe\n",
    "from quantopian.pipeline.filters import QTradableStocksUS\n",
    "\n",
    "\n",
    "def make_pipeline():\n",
    "    # Create a reference to our trading universe\n",
    "    base_universe = QTradableStocksUS()\n",
    "\n",
    "    # Get latest closing price\n",
    "    close_price = USEquityPricing.close.latest\n",
    "\n",
    "    # Calculate 3 day average of bull_minus_bear scores\n",
    "    sentiment_score = SimpleMovingAverage(\n",
    "        inputs=[stocktwits.bull_minus_bear],\n",
    "        window_length=3,\n",
    "    )\n",
    "\n",
    "    # Return Pipeline containing close_price and\n",
    "    # sentiment_score that has our trading universe as screen\n",
    "    return Pipeline(\n",
    "        columns={\n",
    "            'close_price': close_price,\n",
    "            'sentiment_score': sentiment_score,\n",
    "        },\n",
    "        screen=base_universe\n",
    "    )"
   ]
  },
  {
   "cell_type": "markdown",
   "metadata": {},
   "source": [
    "Now that our pipeline definition is complete, we can execute it over a specific period of time using `run_pipeline`. The output will be a pandas DataFrame indexed by date and asset, with columns corresponding to the outputs we added to our pipeline definition:"
   ]
  },
  {
   "cell_type": "code",
   "execution_count": 5,
   "metadata": {},
   "outputs": [
    {
     "data": {
      "text/html": [
       "<div>\n",
       "<table border=\"1\" class=\"dataframe\">\n",
       "  <thead>\n",
       "    <tr style=\"text-align: right;\">\n",
       "      <th></th>\n",
       "      <th></th>\n",
       "      <th>close_price</th>\n",
       "      <th>sentiment_score</th>\n",
       "    </tr>\n",
       "  </thead>\n",
       "  <tbody>\n",
       "    <tr>\n",
       "      <th rowspan=\"10\" valign=\"top\">2013-12-31 00:00:00+00:00</th>\n",
       "      <th>Equity(43721 [SCTY])</th>\n",
       "      <td>57.32</td>\n",
       "      <td>-0.176667</td>\n",
       "    </tr>\n",
       "    <tr>\n",
       "      <th>Equity(43919 [LMCA])</th>\n",
       "      <td>146.22</td>\n",
       "      <td>0.000000</td>\n",
       "    </tr>\n",
       "    <tr>\n",
       "      <th>Equity(43981 [NCLH])</th>\n",
       "      <td>35.25</td>\n",
       "      <td>-0.700000</td>\n",
       "    </tr>\n",
       "    <tr>\n",
       "      <th>Equity(44053 [TPH])</th>\n",
       "      <td>19.33</td>\n",
       "      <td>0.333333</td>\n",
       "    </tr>\n",
       "    <tr>\n",
       "      <th>Equity(44060 [ZTS])</th>\n",
       "      <td>32.68</td>\n",
       "      <td>0.000000</td>\n",
       "    </tr>\n",
       "    <tr>\n",
       "      <th>Equity(44089 [BCC])</th>\n",
       "      <td>29.66</td>\n",
       "      <td>1.000000</td>\n",
       "    </tr>\n",
       "    <tr>\n",
       "      <th>Equity(44102 [XONE])</th>\n",
       "      <td>60.50</td>\n",
       "      <td>0.396667</td>\n",
       "    </tr>\n",
       "    <tr>\n",
       "      <th>Equity(44158 [XOOM])</th>\n",
       "      <td>27.31</td>\n",
       "      <td>-0.160000</td>\n",
       "    </tr>\n",
       "    <tr>\n",
       "      <th>Equity(44249 [APAM])</th>\n",
       "      <td>64.53</td>\n",
       "      <td>0.000000</td>\n",
       "    </tr>\n",
       "    <tr>\n",
       "      <th>Equity(44270 [SSNI])</th>\n",
       "      <td>21.05</td>\n",
       "      <td>0.423333</td>\n",
       "    </tr>\n",
       "  </tbody>\n",
       "</table>\n",
       "</div>"
      ],
      "text/plain": [
       "                                                close_price  sentiment_score\n",
       "2013-12-31 00:00:00+00:00 Equity(43721 [SCTY])        57.32        -0.176667\n",
       "                          Equity(43919 [LMCA])       146.22         0.000000\n",
       "                          Equity(43981 [NCLH])        35.25        -0.700000\n",
       "                          Equity(44053 [TPH])         19.33         0.333333\n",
       "                          Equity(44060 [ZTS])         32.68         0.000000\n",
       "                          Equity(44089 [BCC])         29.66         1.000000\n",
       "                          Equity(44102 [XONE])        60.50         0.396667\n",
       "                          Equity(44158 [XOOM])        27.31        -0.160000\n",
       "                          Equity(44249 [APAM])        64.53         0.000000\n",
       "                          Equity(44270 [SSNI])        21.05         0.423333"
      ]
     },
     "execution_count": 5,
     "metadata": {},
     "output_type": "execute_result"
    }
   ],
   "source": [
    "# Import run_pipeline method\n",
    "from quantopian.research import run_pipeline\n",
    "\n",
    "# Execute pipeline created by make_pipeline\n",
    "# between start_date and end_date\n",
    "pipeline_output = run_pipeline(\n",
    "    make_pipeline(),\n",
    "    start_date='2013-01-01',\n",
    "    end_date='2013-12-31'\n",
    ")\n",
    "\n",
    "# Display last 10 rows\n",
    "pipeline_output.tail(10)"
   ]
  },
  {
   "cell_type": "markdown",
   "metadata": {},
   "source": [
    "In the next lesson we will formalize the strategy our algorithm will use to select assets to trade. Then, we will use a factor analysis tool to evaluate the predictive power of our strategy over historical data."
   ]
  },
  {
   "cell_type": "code",
   "execution_count": 3,
   "metadata": {},
   "outputs": [
    {
     "data": {
      "application/vnd.jupyter.widget-view+json": {
       "model_id": "",
       "version_major": 2,
       "version_minor": 0
      },
      "text/plain": []
     },
     "metadata": {},
     "output_type": "display_data"
    },
    {
     "data": {
      "text/html": [
       "<b>Pipeline Execution Time:</b> 1 Minute, 36.03 Seconds"
      ],
      "text/plain": [
       "<IPython.core.display.HTML object>"
      ]
     },
     "metadata": {},
     "output_type": "display_data"
    },
    {
     "data": {
      "text/html": [
       "<div>\n",
       "<table border=\"1\" class=\"dataframe\">\n",
       "  <thead>\n",
       "    <tr style=\"text-align: right;\">\n",
       "      <th></th>\n",
       "      <th></th>\n",
       "      <th>close_price</th>\n",
       "      <th>open_price</th>\n",
       "      <th>sentiment_score</th>\n",
       "    </tr>\n",
       "  </thead>\n",
       "  <tbody>\n",
       "    <tr>\n",
       "      <th rowspan=\"10\" valign=\"top\">2020-04-07 00:00:00+00:00</th>\n",
       "      <th>Equity(53293 [BSTZ])</th>\n",
       "      <td>16.570</td>\n",
       "      <td>16.37</td>\n",
       "      <td>2.125000</td>\n",
       "    </tr>\n",
       "    <tr>\n",
       "      <th>Equity(53303 [BBIO])</th>\n",
       "      <td>24.660</td>\n",
       "      <td>23.64</td>\n",
       "      <td>-0.648333</td>\n",
       "    </tr>\n",
       "    <tr>\n",
       "      <th>Equity(53304 [ADPT])</th>\n",
       "      <td>27.940</td>\n",
       "      <td>27.04</td>\n",
       "      <td>0.200000</td>\n",
       "    </tr>\n",
       "    <tr>\n",
       "      <th>Equity(53313 [REAL])</th>\n",
       "      <td>6.625</td>\n",
       "      <td>6.67</td>\n",
       "      <td>0.671667</td>\n",
       "    </tr>\n",
       "    <tr>\n",
       "      <th>Equity(53314 [KRTX])</th>\n",
       "      <td>69.575</td>\n",
       "      <td>64.66</td>\n",
       "      <td>2.123889</td>\n",
       "    </tr>\n",
       "    <tr>\n",
       "      <th>Equity(53352 [ORCC])</th>\n",
       "      <td>10.995</td>\n",
       "      <td>10.50</td>\n",
       "      <td>0.000000</td>\n",
       "    </tr>\n",
       "    <tr>\n",
       "      <th>Equity(53353 [PHR])</th>\n",
       "      <td>18.290</td>\n",
       "      <td>19.00</td>\n",
       "      <td>0.000000</td>\n",
       "    </tr>\n",
       "    <tr>\n",
       "      <th>Equity(53360 [IHRT])</th>\n",
       "      <td>4.770</td>\n",
       "      <td>5.11</td>\n",
       "      <td>0.929167</td>\n",
       "    </tr>\n",
       "    <tr>\n",
       "      <th>Equity(53362 [MDLA])</th>\n",
       "      <td>18.070</td>\n",
       "      <td>17.50</td>\n",
       "      <td>1.823333</td>\n",
       "    </tr>\n",
       "    <tr>\n",
       "      <th>Equity(53365 [AFYA])</th>\n",
       "      <td>19.100</td>\n",
       "      <td>18.80</td>\n",
       "      <td>3.500000</td>\n",
       "    </tr>\n",
       "  </tbody>\n",
       "</table>\n",
       "</div>"
      ],
      "text/plain": [
       "                                                close_price  open_price  \\\n",
       "2020-04-07 00:00:00+00:00 Equity(53293 [BSTZ])       16.570       16.37   \n",
       "                          Equity(53303 [BBIO])       24.660       23.64   \n",
       "                          Equity(53304 [ADPT])       27.940       27.04   \n",
       "                          Equity(53313 [REAL])        6.625        6.67   \n",
       "                          Equity(53314 [KRTX])       69.575       64.66   \n",
       "                          Equity(53352 [ORCC])       10.995       10.50   \n",
       "                          Equity(53353 [PHR])        18.290       19.00   \n",
       "                          Equity(53360 [IHRT])        4.770        5.11   \n",
       "                          Equity(53362 [MDLA])       18.070       17.50   \n",
       "                          Equity(53365 [AFYA])       19.100       18.80   \n",
       "\n",
       "                                                sentiment_score  \n",
       "2020-04-07 00:00:00+00:00 Equity(53293 [BSTZ])         2.125000  \n",
       "                          Equity(53303 [BBIO])        -0.648333  \n",
       "                          Equity(53304 [ADPT])         0.200000  \n",
       "                          Equity(53313 [REAL])         0.671667  \n",
       "                          Equity(53314 [KRTX])         2.123889  \n",
       "                          Equity(53352 [ORCC])         0.000000  \n",
       "                          Equity(53353 [PHR])          0.000000  \n",
       "                          Equity(53360 [IHRT])         0.929167  \n",
       "                          Equity(53362 [MDLA])         1.823333  \n",
       "                          Equity(53365 [AFYA])         3.500000  "
      ]
     },
     "execution_count": 3,
     "metadata": {},
     "output_type": "execute_result"
    }
   ],
   "source": [
    "# Import Pipeline class and datasets\n",
    "from quantopian.pipeline import Pipeline\n",
    "from quantopian.pipeline.data import USEquityPricing\n",
    "from quantopian.pipeline.data.psychsignal import stocktwits\n",
    "\n",
    "# Import built-in moving average calculation\n",
    "from quantopian.pipeline.factors import SimpleMovingAverage\n",
    "\n",
    "# Import built-in trading universe\n",
    "from quantopian.pipeline.filters import QTradableStocksUS\n",
    "\n",
    "\n",
    "def make_pipeline():\n",
    "    # Create a reference to our trading universe\n",
    "    base_universe = QTradableStocksUS()\n",
    "\n",
    "    #Get latest closing price\n",
    "    open_price = USEquityPricing.open.latest\n",
    "    \n",
    "    # Get latest closing price\n",
    "    close_price = USEquityPricing.close.latest\n",
    "\n",
    "    # Calculate 3 day average of bull_minus_bear scores\n",
    "    sentiment_score = SimpleMovingAverage(\n",
    "        inputs=[stocktwits.bull_minus_bear],\n",
    "        window_length=3,\n",
    "    )\n",
    "\n",
    "    # Return Pipeline containing close_price and\n",
    "    # sentiment_score that has our trading universe as screen\n",
    "    return Pipeline(\n",
    "        columns={\n",
    "            'open_price': open_price,\n",
    "            'close_price': close_price,\n",
    "            'sentiment_score': sentiment_score,\n",
    "        },\n",
    "        screen=base_universe\n",
    "    )\n",
    "# Import run_pipeline method\n",
    "from quantopian.research import run_pipeline\n",
    "\n",
    "# Execute pipeline created by make_pipeline\n",
    "# between start_date and end_date\n",
    "pipeline_output = run_pipeline(\n",
    "    make_pipeline(),\n",
    "    start_date='2020-01-01',\n",
    "    end_date='2020-04-7'\n",
    ")\n",
    "\n",
    "# Display last 10 rows\n",
    "pipeline_output.tail(10)"
   ]
  }
 ],
 "metadata": {
  "kernelspec": {
   "display_name": "Python 3.5",
   "language": "python",
   "name": "py35"
  },
  "language_info": {
   "codemirror_mode": {
    "name": "ipython",
    "version": 3
   },
   "file_extension": ".py",
   "mimetype": "text/x-python",
   "name": "python",
   "nbconvert_exporter": "python",
   "pygments_lexer": "ipython3",
   "version": "3.5.9"
  }
 },
 "nbformat": 4,
 "nbformat_minor": 2
}